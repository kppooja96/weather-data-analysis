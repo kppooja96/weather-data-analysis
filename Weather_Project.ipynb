{
  "nbformat": 4,
  "nbformat_minor": 0,
  "metadata": {
    "colab": {
      "provenance": []
    },
    "kernelspec": {
      "name": "python3",
      "display_name": "Python 3"
    },
    "language_info": {
      "name": "python"
    }
  },
  "cells": [
    {
      "cell_type": "markdown",
      "source": [
        "# Analysis on Weather data for past 10 Years (2006 - 2016) "
      ],
      "metadata": {
        "id": "blN1TB0qGGP4"
      }
    },
    {
      "cell_type": "code",
      "source": [
        "from google.colab import drive\n",
        "drive.mount('/content/gdrive')\n",
        "\n",
        "import pandas as pd\n",
        "import seaborn as sns\n",
        "import numpy as np\n",
        "import matplotlib.pyplot as plt"
      ],
      "metadata": {
        "colab": {
          "base_uri": "https://localhost:8080/"
        },
        "id": "A77p9DpUGUIx",
        "outputId": "4bb0da04-44aa-40e4-d0a7-921f6a831c99"
      },
      "execution_count": 62,
      "outputs": [
        {
          "output_type": "stream",
          "name": "stdout",
          "text": [
            "Drive already mounted at /content/gdrive; to attempt to forcibly remount, call drive.mount(\"/content/gdrive\", force_remount=True).\n"
          ]
        }
      ]
    },
    {
      "cell_type": "markdown",
      "source": [
        "## Hypothesis Testing: \n",
        "\n",
        "The Null Hypothesis H0 is “Has the Apparent temperature and humidity compared monthly across 10 years of the data indicate an increase due to Global warming”"
      ],
      "metadata": {
        "id": "OQQ-jZ-00GZf"
      }
    },
    {
      "cell_type": "code",
      "source": [
        "df_data = pd.read_csv('gdrive/My Drive/Colab Notebooks/Dataset/weatherHistory.csv', parse_dates = ['Formatted Date'] , index_col = ['Formatted Date'])"
      ],
      "metadata": {
        "id": "agVDMqX8zoTr"
      },
      "execution_count": 63,
      "outputs": []
    },
    {
      "cell_type": "code",
      "source": [
        "df_data.head()"
      ],
      "metadata": {
        "colab": {
          "base_uri": "https://localhost:8080/",
          "height": 490
        },
        "id": "4kMLbEKRz9PT",
        "outputId": "6dd72816-6ba7-44ea-958d-21077e42c320"
      },
      "execution_count": 64,
      "outputs": [
        {
          "output_type": "execute_result",
          "data": {
            "text/plain": [
              "                                 Summary Precip Type  Temperature (C)  \\\n",
              "Formatted Date                                                          \n",
              "2006-04-01 00:00:00+02:00  Partly Cloudy        rain         9.472222   \n",
              "2006-04-01 01:00:00+02:00  Partly Cloudy        rain         9.355556   \n",
              "2006-04-01 02:00:00+02:00  Mostly Cloudy        rain         9.377778   \n",
              "2006-04-01 03:00:00+02:00  Partly Cloudy        rain         8.288889   \n",
              "2006-04-01 04:00:00+02:00  Mostly Cloudy        rain         8.755556   \n",
              "\n",
              "                           Apparent Temperature (C)  Humidity  \\\n",
              "Formatted Date                                                  \n",
              "2006-04-01 00:00:00+02:00                  7.388889      0.89   \n",
              "2006-04-01 01:00:00+02:00                  7.227778      0.86   \n",
              "2006-04-01 02:00:00+02:00                  9.377778      0.89   \n",
              "2006-04-01 03:00:00+02:00                  5.944444      0.83   \n",
              "2006-04-01 04:00:00+02:00                  6.977778      0.83   \n",
              "\n",
              "                           Wind Speed (km/h)  Wind Bearing (degrees)  \\\n",
              "Formatted Date                                                         \n",
              "2006-04-01 00:00:00+02:00            14.1197                   251.0   \n",
              "2006-04-01 01:00:00+02:00            14.2646                   259.0   \n",
              "2006-04-01 02:00:00+02:00             3.9284                   204.0   \n",
              "2006-04-01 03:00:00+02:00            14.1036                   269.0   \n",
              "2006-04-01 04:00:00+02:00            11.0446                   259.0   \n",
              "\n",
              "                           Visibility (km)  Loud Cover  Pressure (millibars)  \\\n",
              "Formatted Date                                                                 \n",
              "2006-04-01 00:00:00+02:00          15.8263         0.0               1015.13   \n",
              "2006-04-01 01:00:00+02:00          15.8263         0.0               1015.63   \n",
              "2006-04-01 02:00:00+02:00          14.9569         0.0               1015.94   \n",
              "2006-04-01 03:00:00+02:00          15.8263         0.0               1016.41   \n",
              "2006-04-01 04:00:00+02:00          15.8263         0.0               1016.51   \n",
              "\n",
              "                                               Daily Summary  \n",
              "Formatted Date                                                \n",
              "2006-04-01 00:00:00+02:00  Partly cloudy throughout the day.  \n",
              "2006-04-01 01:00:00+02:00  Partly cloudy throughout the day.  \n",
              "2006-04-01 02:00:00+02:00  Partly cloudy throughout the day.  \n",
              "2006-04-01 03:00:00+02:00  Partly cloudy throughout the day.  \n",
              "2006-04-01 04:00:00+02:00  Partly cloudy throughout the day.  "
            ],
            "text/html": [
              "\n",
              "  <div id=\"df-6c0526cb-7471-46c6-ad22-bbef914c1227\">\n",
              "    <div class=\"colab-df-container\">\n",
              "      <div>\n",
              "<style scoped>\n",
              "    .dataframe tbody tr th:only-of-type {\n",
              "        vertical-align: middle;\n",
              "    }\n",
              "\n",
              "    .dataframe tbody tr th {\n",
              "        vertical-align: top;\n",
              "    }\n",
              "\n",
              "    .dataframe thead th {\n",
              "        text-align: right;\n",
              "    }\n",
              "</style>\n",
              "<table border=\"1\" class=\"dataframe\">\n",
              "  <thead>\n",
              "    <tr style=\"text-align: right;\">\n",
              "      <th></th>\n",
              "      <th>Summary</th>\n",
              "      <th>Precip Type</th>\n",
              "      <th>Temperature (C)</th>\n",
              "      <th>Apparent Temperature (C)</th>\n",
              "      <th>Humidity</th>\n",
              "      <th>Wind Speed (km/h)</th>\n",
              "      <th>Wind Bearing (degrees)</th>\n",
              "      <th>Visibility (km)</th>\n",
              "      <th>Loud Cover</th>\n",
              "      <th>Pressure (millibars)</th>\n",
              "      <th>Daily Summary</th>\n",
              "    </tr>\n",
              "    <tr>\n",
              "      <th>Formatted Date</th>\n",
              "      <th></th>\n",
              "      <th></th>\n",
              "      <th></th>\n",
              "      <th></th>\n",
              "      <th></th>\n",
              "      <th></th>\n",
              "      <th></th>\n",
              "      <th></th>\n",
              "      <th></th>\n",
              "      <th></th>\n",
              "      <th></th>\n",
              "    </tr>\n",
              "  </thead>\n",
              "  <tbody>\n",
              "    <tr>\n",
              "      <th>2006-04-01 00:00:00+02:00</th>\n",
              "      <td>Partly Cloudy</td>\n",
              "      <td>rain</td>\n",
              "      <td>9.472222</td>\n",
              "      <td>7.388889</td>\n",
              "      <td>0.89</td>\n",
              "      <td>14.1197</td>\n",
              "      <td>251.0</td>\n",
              "      <td>15.8263</td>\n",
              "      <td>0.0</td>\n",
              "      <td>1015.13</td>\n",
              "      <td>Partly cloudy throughout the day.</td>\n",
              "    </tr>\n",
              "    <tr>\n",
              "      <th>2006-04-01 01:00:00+02:00</th>\n",
              "      <td>Partly Cloudy</td>\n",
              "      <td>rain</td>\n",
              "      <td>9.355556</td>\n",
              "      <td>7.227778</td>\n",
              "      <td>0.86</td>\n",
              "      <td>14.2646</td>\n",
              "      <td>259.0</td>\n",
              "      <td>15.8263</td>\n",
              "      <td>0.0</td>\n",
              "      <td>1015.63</td>\n",
              "      <td>Partly cloudy throughout the day.</td>\n",
              "    </tr>\n",
              "    <tr>\n",
              "      <th>2006-04-01 02:00:00+02:00</th>\n",
              "      <td>Mostly Cloudy</td>\n",
              "      <td>rain</td>\n",
              "      <td>9.377778</td>\n",
              "      <td>9.377778</td>\n",
              "      <td>0.89</td>\n",
              "      <td>3.9284</td>\n",
              "      <td>204.0</td>\n",
              "      <td>14.9569</td>\n",
              "      <td>0.0</td>\n",
              "      <td>1015.94</td>\n",
              "      <td>Partly cloudy throughout the day.</td>\n",
              "    </tr>\n",
              "    <tr>\n",
              "      <th>2006-04-01 03:00:00+02:00</th>\n",
              "      <td>Partly Cloudy</td>\n",
              "      <td>rain</td>\n",
              "      <td>8.288889</td>\n",
              "      <td>5.944444</td>\n",
              "      <td>0.83</td>\n",
              "      <td>14.1036</td>\n",
              "      <td>269.0</td>\n",
              "      <td>15.8263</td>\n",
              "      <td>0.0</td>\n",
              "      <td>1016.41</td>\n",
              "      <td>Partly cloudy throughout the day.</td>\n",
              "    </tr>\n",
              "    <tr>\n",
              "      <th>2006-04-01 04:00:00+02:00</th>\n",
              "      <td>Mostly Cloudy</td>\n",
              "      <td>rain</td>\n",
              "      <td>8.755556</td>\n",
              "      <td>6.977778</td>\n",
              "      <td>0.83</td>\n",
              "      <td>11.0446</td>\n",
              "      <td>259.0</td>\n",
              "      <td>15.8263</td>\n",
              "      <td>0.0</td>\n",
              "      <td>1016.51</td>\n",
              "      <td>Partly cloudy throughout the day.</td>\n",
              "    </tr>\n",
              "  </tbody>\n",
              "</table>\n",
              "</div>\n",
              "      <button class=\"colab-df-convert\" onclick=\"convertToInteractive('df-6c0526cb-7471-46c6-ad22-bbef914c1227')\"\n",
              "              title=\"Convert this dataframe to an interactive table.\"\n",
              "              style=\"display:none;\">\n",
              "        \n",
              "  <svg xmlns=\"http://www.w3.org/2000/svg\" height=\"24px\"viewBox=\"0 0 24 24\"\n",
              "       width=\"24px\">\n",
              "    <path d=\"M0 0h24v24H0V0z\" fill=\"none\"/>\n",
              "    <path d=\"M18.56 5.44l.94 2.06.94-2.06 2.06-.94-2.06-.94-.94-2.06-.94 2.06-2.06.94zm-11 1L8.5 8.5l.94-2.06 2.06-.94-2.06-.94L8.5 2.5l-.94 2.06-2.06.94zm10 10l.94 2.06.94-2.06 2.06-.94-2.06-.94-.94-2.06-.94 2.06-2.06.94z\"/><path d=\"M17.41 7.96l-1.37-1.37c-.4-.4-.92-.59-1.43-.59-.52 0-1.04.2-1.43.59L10.3 9.45l-7.72 7.72c-.78.78-.78 2.05 0 2.83L4 21.41c.39.39.9.59 1.41.59.51 0 1.02-.2 1.41-.59l7.78-7.78 2.81-2.81c.8-.78.8-2.07 0-2.86zM5.41 20L4 18.59l7.72-7.72 1.47 1.35L5.41 20z\"/>\n",
              "  </svg>\n",
              "      </button>\n",
              "      \n",
              "  <style>\n",
              "    .colab-df-container {\n",
              "      display:flex;\n",
              "      flex-wrap:wrap;\n",
              "      gap: 12px;\n",
              "    }\n",
              "\n",
              "    .colab-df-convert {\n",
              "      background-color: #E8F0FE;\n",
              "      border: none;\n",
              "      border-radius: 50%;\n",
              "      cursor: pointer;\n",
              "      display: none;\n",
              "      fill: #1967D2;\n",
              "      height: 32px;\n",
              "      padding: 0 0 0 0;\n",
              "      width: 32px;\n",
              "    }\n",
              "\n",
              "    .colab-df-convert:hover {\n",
              "      background-color: #E2EBFA;\n",
              "      box-shadow: 0px 1px 2px rgba(60, 64, 67, 0.3), 0px 1px 3px 1px rgba(60, 64, 67, 0.15);\n",
              "      fill: #174EA6;\n",
              "    }\n",
              "\n",
              "    [theme=dark] .colab-df-convert {\n",
              "      background-color: #3B4455;\n",
              "      fill: #D2E3FC;\n",
              "    }\n",
              "\n",
              "    [theme=dark] .colab-df-convert:hover {\n",
              "      background-color: #434B5C;\n",
              "      box-shadow: 0px 1px 3px 1px rgba(0, 0, 0, 0.15);\n",
              "      filter: drop-shadow(0px 1px 2px rgba(0, 0, 0, 0.3));\n",
              "      fill: #FFFFFF;\n",
              "    }\n",
              "  </style>\n",
              "\n",
              "      <script>\n",
              "        const buttonEl =\n",
              "          document.querySelector('#df-6c0526cb-7471-46c6-ad22-bbef914c1227 button.colab-df-convert');\n",
              "        buttonEl.style.display =\n",
              "          google.colab.kernel.accessAllowed ? 'block' : 'none';\n",
              "\n",
              "        async function convertToInteractive(key) {\n",
              "          const element = document.querySelector('#df-6c0526cb-7471-46c6-ad22-bbef914c1227');\n",
              "          const dataTable =\n",
              "            await google.colab.kernel.invokeFunction('convertToInteractive',\n",
              "                                                     [key], {});\n",
              "          if (!dataTable) return;\n",
              "\n",
              "          const docLinkHtml = 'Like what you see? Visit the ' +\n",
              "            '<a target=\"_blank\" href=https://colab.research.google.com/notebooks/data_table.ipynb>data table notebook</a>'\n",
              "            + ' to learn more about interactive tables.';\n",
              "          element.innerHTML = '';\n",
              "          dataTable['output_type'] = 'display_data';\n",
              "          await google.colab.output.renderOutput(dataTable, element);\n",
              "          const docLink = document.createElement('div');\n",
              "          docLink.innerHTML = docLinkHtml;\n",
              "          element.appendChild(docLink);\n",
              "        }\n",
              "      </script>\n",
              "    </div>\n",
              "  </div>\n",
              "  "
            ]
          },
          "metadata": {},
          "execution_count": 64
        }
      ]
    },
    {
      "cell_type": "markdown",
      "source": [
        "#### To prove our hypothesis lets use Apparent Temperature and Humidity data for further analysis"
      ],
      "metadata": {
        "id": "35_mMD1W0rCy"
      }
    },
    {
      "cell_type": "code",
      "source": [
        "# check for null values\n",
        "df_data.isnull().sum()"
      ],
      "metadata": {
        "colab": {
          "base_uri": "https://localhost:8080/"
        },
        "id": "pWABiEztz97E",
        "outputId": "c2d4d645-b368-4a0c-92b9-980f958cb89c"
      },
      "execution_count": 65,
      "outputs": [
        {
          "output_type": "execute_result",
          "data": {
            "text/plain": [
              "Summary                       0\n",
              "Precip Type                 517\n",
              "Temperature (C)               0\n",
              "Apparent Temperature (C)      0\n",
              "Humidity                      0\n",
              "Wind Speed (km/h)             0\n",
              "Wind Bearing (degrees)        0\n",
              "Visibility (km)               0\n",
              "Loud Cover                    0\n",
              "Pressure (millibars)          0\n",
              "Daily Summary                 0\n",
              "dtype: int64"
            ]
          },
          "metadata": {},
          "execution_count": 65
        }
      ]
    },
    {
      "cell_type": "code",
      "source": [
        "# we have enough data with hence we can remove these 517 NULL rows\n",
        "df = df_data.dropna()\n",
        "# check for null values\n",
        "df.info()"
      ],
      "metadata": {
        "colab": {
          "base_uri": "https://localhost:8080/"
        },
        "id": "dUKUBP-n1HB8",
        "outputId": "e3d90b1a-faa0-41b3-b0a3-0beb006449b8"
      },
      "execution_count": 66,
      "outputs": [
        {
          "output_type": "stream",
          "name": "stdout",
          "text": [
            "<class 'pandas.core.frame.DataFrame'>\n",
            "Index: 95936 entries, 2006-04-01 00:00:00+02:00 to 2016-09-09 23:00:00+02:00\n",
            "Data columns (total 11 columns):\n",
            " #   Column                    Non-Null Count  Dtype  \n",
            "---  ------                    --------------  -----  \n",
            " 0   Summary                   95936 non-null  object \n",
            " 1   Precip Type               95936 non-null  object \n",
            " 2   Temperature (C)           95936 non-null  float64\n",
            " 3   Apparent Temperature (C)  95936 non-null  float64\n",
            " 4   Humidity                  95936 non-null  float64\n",
            " 5   Wind Speed (km/h)         95936 non-null  float64\n",
            " 6   Wind Bearing (degrees)    95936 non-null  float64\n",
            " 7   Visibility (km)           95936 non-null  float64\n",
            " 8   Loud Cover                95936 non-null  float64\n",
            " 9   Pressure (millibars)      95936 non-null  float64\n",
            " 10  Daily Summary             95936 non-null  object \n",
            "dtypes: float64(8), object(3)\n",
            "memory usage: 8.8+ MB\n"
          ]
        }
      ]
    },
    {
      "cell_type": "markdown",
      "source": [
        "### Let's resample the data as for Month basis"
      ],
      "metadata": {
        "id": "odEiotOSQ7oX"
      }
    },
    {
      "cell_type": "code",
      "source": [
        "df.index = pd.to_datetime(df.index , utc =True)\n",
        "df_r = df.resample('M').mean() \n",
        "df_r.head(2)"
      ],
      "metadata": {
        "colab": {
          "base_uri": "https://localhost:8080/",
          "height": 295
        },
        "id": "he1D-Yzl0_zO",
        "outputId": "88cee091-f5b7-4787-af0c-2d909a1a4049"
      },
      "execution_count": 67,
      "outputs": [
        {
          "output_type": "stream",
          "name": "stderr",
          "text": [
            "<ipython-input-67-fb50902a66c3>:2: FutureWarning: The default value of numeric_only in DataFrameGroupBy.mean is deprecated. In a future version, numeric_only will default to False. Either specify numeric_only or select only columns which should be valid for the function.\n",
            "  df_r = df.resample('M').mean()\n"
          ]
        },
        {
          "output_type": "execute_result",
          "data": {
            "text/plain": [
              "                           Temperature (C)  Apparent Temperature (C)  \\\n",
              "Formatted Date                                                         \n",
              "2005-12-31 00:00:00+00:00         0.577778                 -4.050000   \n",
              "2006-01-31 00:00:00+00:00        -1.677942                 -4.173708   \n",
              "\n",
              "                           Humidity  Wind Speed (km/h)  \\\n",
              "Formatted Date                                           \n",
              "2005-12-31 00:00:00+00:00   0.89000          17.114300   \n",
              "2006-01-31 00:00:00+00:00   0.83461           8.894211   \n",
              "\n",
              "                           Wind Bearing (degrees)  Visibility (km)  \\\n",
              "Formatted Date                                                       \n",
              "2005-12-31 00:00:00+00:00              140.000000         9.982000   \n",
              "2006-01-31 00:00:00+00:00              161.018817         7.894064   \n",
              "\n",
              "                           Loud Cover  Pressure (millibars)  \n",
              "Formatted Date                                               \n",
              "2005-12-31 00:00:00+00:00         0.0            1016.66000  \n",
              "2006-01-31 00:00:00+00:00         0.0            1021.20496  "
            ],
            "text/html": [
              "\n",
              "  <div id=\"df-811f2f44-628d-4096-b341-2890950f398a\">\n",
              "    <div class=\"colab-df-container\">\n",
              "      <div>\n",
              "<style scoped>\n",
              "    .dataframe tbody tr th:only-of-type {\n",
              "        vertical-align: middle;\n",
              "    }\n",
              "\n",
              "    .dataframe tbody tr th {\n",
              "        vertical-align: top;\n",
              "    }\n",
              "\n",
              "    .dataframe thead th {\n",
              "        text-align: right;\n",
              "    }\n",
              "</style>\n",
              "<table border=\"1\" class=\"dataframe\">\n",
              "  <thead>\n",
              "    <tr style=\"text-align: right;\">\n",
              "      <th></th>\n",
              "      <th>Temperature (C)</th>\n",
              "      <th>Apparent Temperature (C)</th>\n",
              "      <th>Humidity</th>\n",
              "      <th>Wind Speed (km/h)</th>\n",
              "      <th>Wind Bearing (degrees)</th>\n",
              "      <th>Visibility (km)</th>\n",
              "      <th>Loud Cover</th>\n",
              "      <th>Pressure (millibars)</th>\n",
              "    </tr>\n",
              "    <tr>\n",
              "      <th>Formatted Date</th>\n",
              "      <th></th>\n",
              "      <th></th>\n",
              "      <th></th>\n",
              "      <th></th>\n",
              "      <th></th>\n",
              "      <th></th>\n",
              "      <th></th>\n",
              "      <th></th>\n",
              "    </tr>\n",
              "  </thead>\n",
              "  <tbody>\n",
              "    <tr>\n",
              "      <th>2005-12-31 00:00:00+00:00</th>\n",
              "      <td>0.577778</td>\n",
              "      <td>-4.050000</td>\n",
              "      <td>0.89000</td>\n",
              "      <td>17.114300</td>\n",
              "      <td>140.000000</td>\n",
              "      <td>9.982000</td>\n",
              "      <td>0.0</td>\n",
              "      <td>1016.66000</td>\n",
              "    </tr>\n",
              "    <tr>\n",
              "      <th>2006-01-31 00:00:00+00:00</th>\n",
              "      <td>-1.677942</td>\n",
              "      <td>-4.173708</td>\n",
              "      <td>0.83461</td>\n",
              "      <td>8.894211</td>\n",
              "      <td>161.018817</td>\n",
              "      <td>7.894064</td>\n",
              "      <td>0.0</td>\n",
              "      <td>1021.20496</td>\n",
              "    </tr>\n",
              "  </tbody>\n",
              "</table>\n",
              "</div>\n",
              "      <button class=\"colab-df-convert\" onclick=\"convertToInteractive('df-811f2f44-628d-4096-b341-2890950f398a')\"\n",
              "              title=\"Convert this dataframe to an interactive table.\"\n",
              "              style=\"display:none;\">\n",
              "        \n",
              "  <svg xmlns=\"http://www.w3.org/2000/svg\" height=\"24px\"viewBox=\"0 0 24 24\"\n",
              "       width=\"24px\">\n",
              "    <path d=\"M0 0h24v24H0V0z\" fill=\"none\"/>\n",
              "    <path d=\"M18.56 5.44l.94 2.06.94-2.06 2.06-.94-2.06-.94-.94-2.06-.94 2.06-2.06.94zm-11 1L8.5 8.5l.94-2.06 2.06-.94-2.06-.94L8.5 2.5l-.94 2.06-2.06.94zm10 10l.94 2.06.94-2.06 2.06-.94-2.06-.94-.94-2.06-.94 2.06-2.06.94z\"/><path d=\"M17.41 7.96l-1.37-1.37c-.4-.4-.92-.59-1.43-.59-.52 0-1.04.2-1.43.59L10.3 9.45l-7.72 7.72c-.78.78-.78 2.05 0 2.83L4 21.41c.39.39.9.59 1.41.59.51 0 1.02-.2 1.41-.59l7.78-7.78 2.81-2.81c.8-.78.8-2.07 0-2.86zM5.41 20L4 18.59l7.72-7.72 1.47 1.35L5.41 20z\"/>\n",
              "  </svg>\n",
              "      </button>\n",
              "      \n",
              "  <style>\n",
              "    .colab-df-container {\n",
              "      display:flex;\n",
              "      flex-wrap:wrap;\n",
              "      gap: 12px;\n",
              "    }\n",
              "\n",
              "    .colab-df-convert {\n",
              "      background-color: #E8F0FE;\n",
              "      border: none;\n",
              "      border-radius: 50%;\n",
              "      cursor: pointer;\n",
              "      display: none;\n",
              "      fill: #1967D2;\n",
              "      height: 32px;\n",
              "      padding: 0 0 0 0;\n",
              "      width: 32px;\n",
              "    }\n",
              "\n",
              "    .colab-df-convert:hover {\n",
              "      background-color: #E2EBFA;\n",
              "      box-shadow: 0px 1px 2px rgba(60, 64, 67, 0.3), 0px 1px 3px 1px rgba(60, 64, 67, 0.15);\n",
              "      fill: #174EA6;\n",
              "    }\n",
              "\n",
              "    [theme=dark] .colab-df-convert {\n",
              "      background-color: #3B4455;\n",
              "      fill: #D2E3FC;\n",
              "    }\n",
              "\n",
              "    [theme=dark] .colab-df-convert:hover {\n",
              "      background-color: #434B5C;\n",
              "      box-shadow: 0px 1px 3px 1px rgba(0, 0, 0, 0.15);\n",
              "      filter: drop-shadow(0px 1px 2px rgba(0, 0, 0, 0.3));\n",
              "      fill: #FFFFFF;\n",
              "    }\n",
              "  </style>\n",
              "\n",
              "      <script>\n",
              "        const buttonEl =\n",
              "          document.querySelector('#df-811f2f44-628d-4096-b341-2890950f398a button.colab-df-convert');\n",
              "        buttonEl.style.display =\n",
              "          google.colab.kernel.accessAllowed ? 'block' : 'none';\n",
              "\n",
              "        async function convertToInteractive(key) {\n",
              "          const element = document.querySelector('#df-811f2f44-628d-4096-b341-2890950f398a');\n",
              "          const dataTable =\n",
              "            await google.colab.kernel.invokeFunction('convertToInteractive',\n",
              "                                                     [key], {});\n",
              "          if (!dataTable) return;\n",
              "\n",
              "          const docLinkHtml = 'Like what you see? Visit the ' +\n",
              "            '<a target=\"_blank\" href=https://colab.research.google.com/notebooks/data_table.ipynb>data table notebook</a>'\n",
              "            + ' to learn more about interactive tables.';\n",
              "          element.innerHTML = '';\n",
              "          dataTable['output_type'] = 'display_data';\n",
              "          await google.colab.output.renderOutput(dataTable, element);\n",
              "          const docLink = document.createElement('div');\n",
              "          docLink.innerHTML = docLinkHtml;\n",
              "          element.appendChild(docLink);\n",
              "        }\n",
              "      </script>\n",
              "    </div>\n",
              "  </div>\n",
              "  "
            ]
          },
          "metadata": {},
          "execution_count": 67
        }
      ]
    },
    {
      "cell_type": "code",
      "source": [
        "df_r.tail(2)"
      ],
      "metadata": {
        "colab": {
          "base_uri": "https://localhost:8080/",
          "height": 240
        },
        "id": "vQkeKKT0UCan",
        "outputId": "e110b4e0-843a-4a95-ad38-960bb1f4f2f9"
      },
      "execution_count": 68,
      "outputs": [
        {
          "output_type": "execute_result",
          "data": {
            "text/plain": [
              "                           Temperature (C)  Apparent Temperature (C)  \\\n",
              "Formatted Date                                                         \n",
              "2016-11-30 00:00:00+00:00         5.158800                  2.860089   \n",
              "2016-12-31 00:00:00+00:00         1.239158                 -2.017272   \n",
              "\n",
              "                           Humidity  Wind Speed (km/h)  \\\n",
              "Formatted Date                                           \n",
              "2016-11-30 00:00:00+00:00  0.848847          10.507636   \n",
              "2016-12-31 00:00:00+00:00  0.887981          11.024860   \n",
              "\n",
              "                           Wind Bearing (degrees)  Visibility (km)  \\\n",
              "Formatted Date                                                       \n",
              "2016-11-30 00:00:00+00:00              163.690511         8.725824   \n",
              "2016-12-31 00:00:00+00:00              179.064603         7.460627   \n",
              "\n",
              "                           Loud Cover  Pressure (millibars)  \n",
              "Formatted Date                                               \n",
              "2016-11-30 00:00:00+00:00         0.0           1019.215737  \n",
              "2016-12-31 00:00:00+00:00         0.0           1019.946339  "
            ],
            "text/html": [
              "\n",
              "  <div id=\"df-602ec9e6-3e17-44ba-88be-c5f8a99cef56\">\n",
              "    <div class=\"colab-df-container\">\n",
              "      <div>\n",
              "<style scoped>\n",
              "    .dataframe tbody tr th:only-of-type {\n",
              "        vertical-align: middle;\n",
              "    }\n",
              "\n",
              "    .dataframe tbody tr th {\n",
              "        vertical-align: top;\n",
              "    }\n",
              "\n",
              "    .dataframe thead th {\n",
              "        text-align: right;\n",
              "    }\n",
              "</style>\n",
              "<table border=\"1\" class=\"dataframe\">\n",
              "  <thead>\n",
              "    <tr style=\"text-align: right;\">\n",
              "      <th></th>\n",
              "      <th>Temperature (C)</th>\n",
              "      <th>Apparent Temperature (C)</th>\n",
              "      <th>Humidity</th>\n",
              "      <th>Wind Speed (km/h)</th>\n",
              "      <th>Wind Bearing (degrees)</th>\n",
              "      <th>Visibility (km)</th>\n",
              "      <th>Loud Cover</th>\n",
              "      <th>Pressure (millibars)</th>\n",
              "    </tr>\n",
              "    <tr>\n",
              "      <th>Formatted Date</th>\n",
              "      <th></th>\n",
              "      <th></th>\n",
              "      <th></th>\n",
              "      <th></th>\n",
              "      <th></th>\n",
              "      <th></th>\n",
              "      <th></th>\n",
              "      <th></th>\n",
              "    </tr>\n",
              "  </thead>\n",
              "  <tbody>\n",
              "    <tr>\n",
              "      <th>2016-11-30 00:00:00+00:00</th>\n",
              "      <td>5.158800</td>\n",
              "      <td>2.860089</td>\n",
              "      <td>0.848847</td>\n",
              "      <td>10.507636</td>\n",
              "      <td>163.690511</td>\n",
              "      <td>8.725824</td>\n",
              "      <td>0.0</td>\n",
              "      <td>1019.215737</td>\n",
              "    </tr>\n",
              "    <tr>\n",
              "      <th>2016-12-31 00:00:00+00:00</th>\n",
              "      <td>1.239158</td>\n",
              "      <td>-2.017272</td>\n",
              "      <td>0.887981</td>\n",
              "      <td>11.024860</td>\n",
              "      <td>179.064603</td>\n",
              "      <td>7.460627</td>\n",
              "      <td>0.0</td>\n",
              "      <td>1019.946339</td>\n",
              "    </tr>\n",
              "  </tbody>\n",
              "</table>\n",
              "</div>\n",
              "      <button class=\"colab-df-convert\" onclick=\"convertToInteractive('df-602ec9e6-3e17-44ba-88be-c5f8a99cef56')\"\n",
              "              title=\"Convert this dataframe to an interactive table.\"\n",
              "              style=\"display:none;\">\n",
              "        \n",
              "  <svg xmlns=\"http://www.w3.org/2000/svg\" height=\"24px\"viewBox=\"0 0 24 24\"\n",
              "       width=\"24px\">\n",
              "    <path d=\"M0 0h24v24H0V0z\" fill=\"none\"/>\n",
              "    <path d=\"M18.56 5.44l.94 2.06.94-2.06 2.06-.94-2.06-.94-.94-2.06-.94 2.06-2.06.94zm-11 1L8.5 8.5l.94-2.06 2.06-.94-2.06-.94L8.5 2.5l-.94 2.06-2.06.94zm10 10l.94 2.06.94-2.06 2.06-.94-2.06-.94-.94-2.06-.94 2.06-2.06.94z\"/><path d=\"M17.41 7.96l-1.37-1.37c-.4-.4-.92-.59-1.43-.59-.52 0-1.04.2-1.43.59L10.3 9.45l-7.72 7.72c-.78.78-.78 2.05 0 2.83L4 21.41c.39.39.9.59 1.41.59.51 0 1.02-.2 1.41-.59l7.78-7.78 2.81-2.81c.8-.78.8-2.07 0-2.86zM5.41 20L4 18.59l7.72-7.72 1.47 1.35L5.41 20z\"/>\n",
              "  </svg>\n",
              "      </button>\n",
              "      \n",
              "  <style>\n",
              "    .colab-df-container {\n",
              "      display:flex;\n",
              "      flex-wrap:wrap;\n",
              "      gap: 12px;\n",
              "    }\n",
              "\n",
              "    .colab-df-convert {\n",
              "      background-color: #E8F0FE;\n",
              "      border: none;\n",
              "      border-radius: 50%;\n",
              "      cursor: pointer;\n",
              "      display: none;\n",
              "      fill: #1967D2;\n",
              "      height: 32px;\n",
              "      padding: 0 0 0 0;\n",
              "      width: 32px;\n",
              "    }\n",
              "\n",
              "    .colab-df-convert:hover {\n",
              "      background-color: #E2EBFA;\n",
              "      box-shadow: 0px 1px 2px rgba(60, 64, 67, 0.3), 0px 1px 3px 1px rgba(60, 64, 67, 0.15);\n",
              "      fill: #174EA6;\n",
              "    }\n",
              "\n",
              "    [theme=dark] .colab-df-convert {\n",
              "      background-color: #3B4455;\n",
              "      fill: #D2E3FC;\n",
              "    }\n",
              "\n",
              "    [theme=dark] .colab-df-convert:hover {\n",
              "      background-color: #434B5C;\n",
              "      box-shadow: 0px 1px 3px 1px rgba(0, 0, 0, 0.15);\n",
              "      filter: drop-shadow(0px 1px 2px rgba(0, 0, 0, 0.3));\n",
              "      fill: #FFFFFF;\n",
              "    }\n",
              "  </style>\n",
              "\n",
              "      <script>\n",
              "        const buttonEl =\n",
              "          document.querySelector('#df-602ec9e6-3e17-44ba-88be-c5f8a99cef56 button.colab-df-convert');\n",
              "        buttonEl.style.display =\n",
              "          google.colab.kernel.accessAllowed ? 'block' : 'none';\n",
              "\n",
              "        async function convertToInteractive(key) {\n",
              "          const element = document.querySelector('#df-602ec9e6-3e17-44ba-88be-c5f8a99cef56');\n",
              "          const dataTable =\n",
              "            await google.colab.kernel.invokeFunction('convertToInteractive',\n",
              "                                                     [key], {});\n",
              "          if (!dataTable) return;\n",
              "\n",
              "          const docLinkHtml = 'Like what you see? Visit the ' +\n",
              "            '<a target=\"_blank\" href=https://colab.research.google.com/notebooks/data_table.ipynb>data table notebook</a>'\n",
              "            + ' to learn more about interactive tables.';\n",
              "          element.innerHTML = '';\n",
              "          dataTable['output_type'] = 'display_data';\n",
              "          await google.colab.output.renderOutput(dataTable, element);\n",
              "          const docLink = document.createElement('div');\n",
              "          docLink.innerHTML = docLinkHtml;\n",
              "          element.appendChild(docLink);\n",
              "        }\n",
              "      </script>\n",
              "    </div>\n",
              "  </div>\n",
              "  "
            ]
          },
          "metadata": {},
          "execution_count": 68
        }
      ]
    },
    {
      "cell_type": "markdown",
      "source": [
        "Let's analyze month-to-month data for Apparent Temperature for All 12 Months."
      ],
      "metadata": {
        "id": "0afFyNVZQ-fu"
      }
    },
    {
      "cell_type": "code",
      "source": [
        "df_r['month'] = df_r.index.month\n",
        "df_r['year'] = df_r.index.year\n",
        "df_r.index = df_r.index.date\n",
        "df_r = df_r[1:] # remove column with year 2005 column"
      ],
      "metadata": {
        "id": "5dwjnX53V3JD"
      },
      "execution_count": 69,
      "outputs": []
    },
    {
      "cell_type": "code",
      "source": [
        "df_r.head(2)"
      ],
      "metadata": {
        "colab": {
          "base_uri": "https://localhost:8080/",
          "height": 208
        },
        "id": "SKGYQJSvRKW4",
        "outputId": "4918bb2e-626f-449d-f51a-6a9a6ad00089"
      },
      "execution_count": 70,
      "outputs": [
        {
          "output_type": "execute_result",
          "data": {
            "text/plain": [
              "            Temperature (C)  Apparent Temperature (C)  Humidity  \\\n",
              "2006-01-31        -1.677942                 -4.173708  0.834610   \n",
              "2006-02-28        -0.065394                 -2.990716  0.843467   \n",
              "\n",
              "            Wind Speed (km/h)  Wind Bearing (degrees)  Visibility (km)  \\\n",
              "2006-01-31           8.894211              161.018817         7.894064   \n",
              "2006-02-28          10.957008              197.886905         7.418794   \n",
              "\n",
              "            Loud Cover  Pressure (millibars)  month  year  \n",
              "2006-01-31         0.0           1021.204960      1  2006  \n",
              "2006-02-28         0.0            995.183914      2  2006  "
            ],
            "text/html": [
              "\n",
              "  <div id=\"df-35ca014a-8860-413d-a76e-6ee7e14a4707\">\n",
              "    <div class=\"colab-df-container\">\n",
              "      <div>\n",
              "<style scoped>\n",
              "    .dataframe tbody tr th:only-of-type {\n",
              "        vertical-align: middle;\n",
              "    }\n",
              "\n",
              "    .dataframe tbody tr th {\n",
              "        vertical-align: top;\n",
              "    }\n",
              "\n",
              "    .dataframe thead th {\n",
              "        text-align: right;\n",
              "    }\n",
              "</style>\n",
              "<table border=\"1\" class=\"dataframe\">\n",
              "  <thead>\n",
              "    <tr style=\"text-align: right;\">\n",
              "      <th></th>\n",
              "      <th>Temperature (C)</th>\n",
              "      <th>Apparent Temperature (C)</th>\n",
              "      <th>Humidity</th>\n",
              "      <th>Wind Speed (km/h)</th>\n",
              "      <th>Wind Bearing (degrees)</th>\n",
              "      <th>Visibility (km)</th>\n",
              "      <th>Loud Cover</th>\n",
              "      <th>Pressure (millibars)</th>\n",
              "      <th>month</th>\n",
              "      <th>year</th>\n",
              "    </tr>\n",
              "  </thead>\n",
              "  <tbody>\n",
              "    <tr>\n",
              "      <th>2006-01-31</th>\n",
              "      <td>-1.677942</td>\n",
              "      <td>-4.173708</td>\n",
              "      <td>0.834610</td>\n",
              "      <td>8.894211</td>\n",
              "      <td>161.018817</td>\n",
              "      <td>7.894064</td>\n",
              "      <td>0.0</td>\n",
              "      <td>1021.204960</td>\n",
              "      <td>1</td>\n",
              "      <td>2006</td>\n",
              "    </tr>\n",
              "    <tr>\n",
              "      <th>2006-02-28</th>\n",
              "      <td>-0.065394</td>\n",
              "      <td>-2.990716</td>\n",
              "      <td>0.843467</td>\n",
              "      <td>10.957008</td>\n",
              "      <td>197.886905</td>\n",
              "      <td>7.418794</td>\n",
              "      <td>0.0</td>\n",
              "      <td>995.183914</td>\n",
              "      <td>2</td>\n",
              "      <td>2006</td>\n",
              "    </tr>\n",
              "  </tbody>\n",
              "</table>\n",
              "</div>\n",
              "      <button class=\"colab-df-convert\" onclick=\"convertToInteractive('df-35ca014a-8860-413d-a76e-6ee7e14a4707')\"\n",
              "              title=\"Convert this dataframe to an interactive table.\"\n",
              "              style=\"display:none;\">\n",
              "        \n",
              "  <svg xmlns=\"http://www.w3.org/2000/svg\" height=\"24px\"viewBox=\"0 0 24 24\"\n",
              "       width=\"24px\">\n",
              "    <path d=\"M0 0h24v24H0V0z\" fill=\"none\"/>\n",
              "    <path d=\"M18.56 5.44l.94 2.06.94-2.06 2.06-.94-2.06-.94-.94-2.06-.94 2.06-2.06.94zm-11 1L8.5 8.5l.94-2.06 2.06-.94-2.06-.94L8.5 2.5l-.94 2.06-2.06.94zm10 10l.94 2.06.94-2.06 2.06-.94-2.06-.94-.94-2.06-.94 2.06-2.06.94z\"/><path d=\"M17.41 7.96l-1.37-1.37c-.4-.4-.92-.59-1.43-.59-.52 0-1.04.2-1.43.59L10.3 9.45l-7.72 7.72c-.78.78-.78 2.05 0 2.83L4 21.41c.39.39.9.59 1.41.59.51 0 1.02-.2 1.41-.59l7.78-7.78 2.81-2.81c.8-.78.8-2.07 0-2.86zM5.41 20L4 18.59l7.72-7.72 1.47 1.35L5.41 20z\"/>\n",
              "  </svg>\n",
              "      </button>\n",
              "      \n",
              "  <style>\n",
              "    .colab-df-container {\n",
              "      display:flex;\n",
              "      flex-wrap:wrap;\n",
              "      gap: 12px;\n",
              "    }\n",
              "\n",
              "    .colab-df-convert {\n",
              "      background-color: #E8F0FE;\n",
              "      border: none;\n",
              "      border-radius: 50%;\n",
              "      cursor: pointer;\n",
              "      display: none;\n",
              "      fill: #1967D2;\n",
              "      height: 32px;\n",
              "      padding: 0 0 0 0;\n",
              "      width: 32px;\n",
              "    }\n",
              "\n",
              "    .colab-df-convert:hover {\n",
              "      background-color: #E2EBFA;\n",
              "      box-shadow: 0px 1px 2px rgba(60, 64, 67, 0.3), 0px 1px 3px 1px rgba(60, 64, 67, 0.15);\n",
              "      fill: #174EA6;\n",
              "    }\n",
              "\n",
              "    [theme=dark] .colab-df-convert {\n",
              "      background-color: #3B4455;\n",
              "      fill: #D2E3FC;\n",
              "    }\n",
              "\n",
              "    [theme=dark] .colab-df-convert:hover {\n",
              "      background-color: #434B5C;\n",
              "      box-shadow: 0px 1px 3px 1px rgba(0, 0, 0, 0.15);\n",
              "      filter: drop-shadow(0px 1px 2px rgba(0, 0, 0, 0.3));\n",
              "      fill: #FFFFFF;\n",
              "    }\n",
              "  </style>\n",
              "\n",
              "      <script>\n",
              "        const buttonEl =\n",
              "          document.querySelector('#df-35ca014a-8860-413d-a76e-6ee7e14a4707 button.colab-df-convert');\n",
              "        buttonEl.style.display =\n",
              "          google.colab.kernel.accessAllowed ? 'block' : 'none';\n",
              "\n",
              "        async function convertToInteractive(key) {\n",
              "          const element = document.querySelector('#df-35ca014a-8860-413d-a76e-6ee7e14a4707');\n",
              "          const dataTable =\n",
              "            await google.colab.kernel.invokeFunction('convertToInteractive',\n",
              "                                                     [key], {});\n",
              "          if (!dataTable) return;\n",
              "\n",
              "          const docLinkHtml = 'Like what you see? Visit the ' +\n",
              "            '<a target=\"_blank\" href=https://colab.research.google.com/notebooks/data_table.ipynb>data table notebook</a>'\n",
              "            + ' to learn more about interactive tables.';\n",
              "          element.innerHTML = '';\n",
              "          dataTable['output_type'] = 'display_data';\n",
              "          await google.colab.output.renderOutput(dataTable, element);\n",
              "          const docLink = document.createElement('div');\n",
              "          docLink.innerHTML = docLinkHtml;\n",
              "          element.appendChild(docLink);\n",
              "        }\n",
              "      </script>\n",
              "    </div>\n",
              "  </div>\n",
              "  "
            ]
          },
          "metadata": {},
          "execution_count": 70
        }
      ]
    },
    {
      "cell_type": "code",
      "source": [
        "# now we have to find avg apparent tempreature for month to month like april 2006 to april 2016\n",
        "month_to_month_AT = {}\n",
        "for month in range(1,13):\n",
        "    month_to_month_AT[month] = list(df_r[df_r['month'] == month]['Apparent Temperature (C)'].values)\n",
        "\n",
        "# now we have to find avg apparent tempreature for month to month like april 2006 to april 2016\n",
        "month_to_month_Humidity = {}\n",
        "for month in range(1,13):\n",
        "    month_to_month_Humidity[month] = list(df_r[df_r['month'] == month]['Humidity'].values)"
      ],
      "metadata": {
        "id": "lZs6tXQ9RgRy"
      },
      "execution_count": 71,
      "outputs": []
    },
    {
      "cell_type": "code",
      "source": [
        "title = {1:'Jan',2:'Feb',3:'March',4:'April',5:'May',6:'June',7:'July',8:'Aug',9:'Sep',\n",
        "         10:'Oct',11:'Nov',12:'Dec'}\n",
        "def plot_AT_or_Humidity(what_for , month_dict):\n",
        "    for index in range(1,13):\n",
        "        t = title[index]\n",
        "        plt.plot(range(2006,2017),month_dict[index])\n",
        "        plt.title(what_for + ' for ' +t+' Month')\n",
        "        plt.show()"
      ],
      "metadata": {
        "id": "TJZ7uFdNSTYS"
      },
      "execution_count": 72,
      "outputs": []
    },
    {
      "cell_type": "code",
      "source": [
        "# now we find difference\n",
        "def find_avg_difference(month_dict):\n",
        "    difference = []\n",
        "    for month in range(1,13):\n",
        "        difference.append(np.mean(month_dict[month]))\n",
        "    return difference\n",
        "\n",
        "AT_difference_monthly = find_avg_difference(month_to_month_AT)\n",
        "Humidity_difference_monthly = find_avg_difference(month_to_month_Humidity)"
      ],
      "metadata": {
        "id": "Uuvn8RBnScfb"
      },
      "execution_count": 73,
      "outputs": []
    },
    {
      "cell_type": "code",
      "source": [
        "plt.plot(AT_difference_monthly)\n",
        "plt.title('Monthly Average Data(2006-2016) of AT')"
      ],
      "metadata": {
        "colab": {
          "base_uri": "https://localhost:8080/",
          "height": 470
        },
        "id": "Zyisz4gFSlTR",
        "outputId": "e0a1f2ff-2395-4e6a-feb6-7d3104f93614"
      },
      "execution_count": 74,
      "outputs": [
        {
          "output_type": "execute_result",
          "data": {
            "text/plain": [
              "Text(0.5, 1.0, 'Monthly Average Data(2006-2016) of AT')"
            ]
          },
          "metadata": {},
          "execution_count": 74
        },
        {
          "output_type": "display_data",
          "data": {
            "text/plain": [
              "<Figure size 640x480 with 1 Axes>"
            ],
            "image/png": "[encoded data removed]"
          },
          "metadata": {}
        }
      ]
    },
    {
      "cell_type": "code",
      "source": [
        "plt.plot(Humidity_difference_monthly)"
      ],
      "metadata": {
        "colab": {
          "base_uri": "https://localhost:8080/",
          "height": 448
        },
        "id": "l_44SYx4Sxs8",
        "outputId": "e5361be1-50f8-488d-8316-a90908b3a717"
      },
      "execution_count": 75,
      "outputs": [
        {
          "output_type": "execute_result",
          "data": {
            "text/plain": [
              "[<matplotlib.lines.Line2D at 0x7fe2c58176a0>]"
            ]
          },
          "metadata": {},
          "execution_count": 75
        },
        {
          "output_type": "display_data",
          "data": {
            "text/plain": [
              "<Figure size 640x480 with 1 Axes>"
            ],
            "image/png": "[encoded data removed]"
          },
          "metadata": {}
        }
      ]
    },
    {
      "cell_type": "markdown",
      "source": [
        "### Let's pick the month we are intersted in knowing about \n",
        "### Let's pick April"
      ],
      "metadata": {
        "id": "etxN1_8tEHMI"
      }
    },
    {
      "cell_type": "code",
      "source": [
        "print(\"Enter Desired month for analysis:\")\n",
        "month = int(input())\n",
        "\n",
        "\n",
        "df_m_at=df_r[df_r['month']==month]\n",
        "sns.barplot(x = df_m_at['year'] , y = df_m_at['Apparent Temperature (C)'])\n",
        "    \n",
        "plt.title('Apparent Temperature for Month:' + title[month])\n",
        "plt.show()"
      ],
      "metadata": {
        "colab": {
          "base_uri": "https://localhost:8080/",
          "height": 508
        },
        "id": "BT2L6-5W7h2h",
        "outputId": "cce95e19-b32d-402e-fdf4-ee5f5381f580"
      },
      "execution_count": 76,
      "outputs": [
        {
          "name": "stdout",
          "output_type": "stream",
          "text": [
            "Enter Desired month for analysis:\n",
            "4\n"
          ]
        },
        {
          "output_type": "display_data",
          "data": {
            "text/plain": [
              "<Figure size 640x480 with 1 Axes>"
            ],
            "image/png": "[encoded data removed]"
          },
          "metadata": {}
        }
      ]
    },
    {
      "cell_type": "markdown",
      "source": [
        "As we can see from above graph we can say that month of April had a median of around 10C with a high in 2009 at 14C and low in 2015."
      ],
      "metadata": {
        "id": "mqjzV7LXEjFV"
      }
    },
    {
      "cell_type": "code",
      "source": [
        "df_m_h=df_r[df_r['month']==month]\n",
        "sns.barplot(x = df_m_h['year'] , y = df_m_h['Humidity'])\n",
        "    \n",
        "plt.title('Humidity for Month:' + title[month])\n",
        "plt.show()"
      ],
      "metadata": {
        "colab": {
          "base_uri": "https://localhost:8080/",
          "height": 472
        },
        "id": "VBgFJIIQ7iCz",
        "outputId": "03413b46-5178-46e9-b26f-e981ad0a406f"
      },
      "execution_count": 77,
      "outputs": [
        {
          "output_type": "display_data",
          "data": {
            "text/plain": [
              "<Figure size 640x480 with 1 Axes>"
            ],
            "image/png": "[encoded data removed]"
          },
          "metadata": {}
        }
      ]
    },
    {
      "cell_type": "markdown",
      "source": [
        "Here we could see that very year in month of April Humidity is been changing. Interstingly we can see that in 2009 the tempearture was high and Humidity is also low around 0.5"
      ],
      "metadata": {
        "id": "IokfuyB8EwjR"
      }
    },
    {
      "cell_type": "code",
      "source": [
        "def plot_Humidty_and_AT():\n",
        "    #for month in range(1,12):\n",
        "    df_r_m = df_r[df_r['month']==month]\n",
        "    plt.plot(range(2006,2017),df_r_m['Apparent Temperature (C)'] , label = 'AT' , color = 'red')\n",
        "    plt.plot(range(2006,2017),df_r_m['Humidity'] , label = 'Humidity')\n",
        "    plt.legend()\n",
        "    plt.title('AT and Humidity (Without Normalization) for Month: '+ title[month])\n",
        "    plt.show()\n",
        "\n",
        "plot_Humidty_and_AT()"
      ],
      "metadata": {
        "colab": {
          "base_uri": "https://localhost:8080/",
          "height": 452
        },
        "id": "uknQriqP7-6s",
        "outputId": "60caf3c6-d856-4fab-817f-7eafa1434979"
      },
      "execution_count": 78,
      "outputs": [
        {
          "output_type": "display_data",
          "data": {
            "text/plain": [
              "<Figure size 640x480 with 1 Axes>"
            ],
            "image/png": "[encoded data removed]"
          },
          "metadata": {}
        }
      ]
    },
    {
      "cell_type": "markdown",
      "source": [
        "From this, we can see that for the year 2009 Apparent temperature become highest and then again it flctuate. In the year 2015 it becomes lowest and then again it increases. so we can clearly say that for the last 10 years Apparent temperature is uncertain because of the increase in global warming."
      ],
      "metadata": {
        "id": "xxTn9cvJFOe4"
      }
    },
    {
      "cell_type": "markdown",
      "source": [
        "## Conclusion :\n",
        "\n",
        "In this 10 years of Dataset, we can see as per year increases Apparent temperature and humidity are not related. For all the year monthly average humidity is the same but the Apparent temperature is different. Global warming is affecting the earth’s temperature so that we see some uncertainty in this data."
      ],
      "metadata": {
        "id": "qXnR2QKxFUEt"
      }
    }
  ]
}